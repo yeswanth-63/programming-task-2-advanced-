{
 "cells": [
  {
   "cell_type": "markdown",
   "id": "73f0533a",
   "metadata": {},
   "source": [
    "# Q1. Defanging an IP Address"
   ]
  },
  {
   "cell_type": "code",
   "execution_count": null,
   "id": "ff86c9d4",
   "metadata": {},
   "outputs": [],
   "source": [
    "class Solution:\n",
    "    def defangIPaddr(self, address: str) -> str:\n",
    "        s=\"\"\n",
    "        for ele in address:\n",
    "            if ele==\".\":\n",
    "                s+=\"[.]\"\n",
    "            else:\n",
    "                s+=ele\n",
    "        return s"
   ]
  },
  {
   "cell_type": "markdown",
   "id": "ecd1ea65",
   "metadata": {},
   "source": [
    "# Q2.Find Numbers with Even Number of Digits"
   ]
  },
  {
   "cell_type": "code",
   "execution_count": null,
   "id": "1baf0240",
   "metadata": {},
   "outputs": [],
   "source": [
    "class Solution:\n",
    "    def findNumbers(self, nums: List[int]) -> int:\n",
    "        count=0\n",
    "        for i in range(len(nums)):\n",
    "            nums[i]=str(nums[i])\n",
    "            if(len(nums[i])%2 ==0):\n",
    "                count+=1\n",
    "        return count"
   ]
  },
  {
   "cell_type": "markdown",
   "id": "e744a5a0",
   "metadata": {},
   "source": [
    "# Q3.Number of Good Pairs"
   ]
  },
  {
   "cell_type": "code",
   "execution_count": null,
   "id": "9eec505c",
   "metadata": {},
   "outputs": [],
   "source": [
    "class Solution:\n",
    "    def numIdenticalPairs(self, nums: List[int]) -> int:\n",
    "        d={}\n",
    "        for ele in nums:\n",
    "            if d.get(ele):\n",
    "                d[ele]+=1\n",
    "            else:\n",
    "                d[ele]=1\n",
    "        count=0\n",
    "        for ele in d:\n",
    "            if (d[ele]>1):\n",
    "                n=d[ele]\n",
    "                count+=(n*(n-1)/2)\n",
    "        return int(count)\n"
   ]
  },
  {
   "cell_type": "markdown",
   "id": "0b875d6a",
   "metadata": {},
   "source": [
    "# Q4.How Many Numbers Are Smaller Than the Current Number"
   ]
  },
  {
   "cell_type": "code",
   "execution_count": null,
   "id": "d80b5711",
   "metadata": {},
   "outputs": [],
   "source": [
    "class Solution:\n",
    "    def smallerNumbersThanCurrent(self, nums: List[int]) -> List[int]:\n",
    "        li=[]\n",
    "        for i in range(len(nums)):\n",
    "            count=0\n",
    "            for j in range(len(nums)):\n",
    "                if(nums[i]>nums[j]):\n",
    "                    count+=1\n",
    "            li.append(count)\n",
    "        return li"
   ]
  },
  {
   "cell_type": "markdown",
   "id": "098b7e3f",
   "metadata": {},
   "source": [
    "# Q5.Subtract the Product and Sum of Digits of an Integer"
   ]
  },
  {
   "cell_type": "code",
   "execution_count": null,
   "id": "7478d1c5",
   "metadata": {},
   "outputs": [],
   "source": [
    "class Solution:\n",
    "    def subtractProductAndSum(self, n: int) -> int:\n",
    "        li=[]\n",
    "        while n>0:\n",
    "            li.append(n%10)\n",
    "            n=n//10\n",
    "        s=sum(li)\n",
    "        p=1\n",
    "        for ele in li:\n",
    "            p=p*ele\n",
    "        return p-s"
   ]
  },
  {
   "cell_type": "markdown",
   "id": "9ecc5462",
   "metadata": {},
   "source": [
    "# Q6.XOR Operation in an Array"
   ]
  },
  {
   "cell_type": "code",
   "execution_count": null,
   "id": "66559fa7",
   "metadata": {},
   "outputs": [],
   "source": [
    "class Solution:\n",
    "    def xorOperation(self, n: int, start: int) -> int:\n",
    "        li=[]\n",
    "        c=0\n",
    "        for i in range(n):\n",
    "            li.append(start+2*i)\n",
    "        print(li)\n",
    "        for i in range(len(li)):\n",
    "            c=c^li[i]\n",
    "        return c\n"
   ]
  }
 ],
 "metadata": {
  "kernelspec": {
   "display_name": "Python 3 (ipykernel)",
   "language": "python",
   "name": "python3"
  },
  "language_info": {
   "codemirror_mode": {
    "name": "ipython",
    "version": 3
   },
   "file_extension": ".py",
   "mimetype": "text/x-python",
   "name": "python",
   "nbconvert_exporter": "python",
   "pygments_lexer": "ipython3",
   "version": "3.9.13"
  }
 },
 "nbformat": 4,
 "nbformat_minor": 5
}
